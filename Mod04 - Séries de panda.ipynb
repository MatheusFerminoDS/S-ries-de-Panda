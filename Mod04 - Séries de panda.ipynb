{
 "cells": [
  {
   "cell_type": "markdown",
   "metadata": {},
   "source": [
    "# Tarefa 01\n",
    "\n",
    "- Leia os enunciados com atenção\n",
    "- Saiba que pode haver mais de uma resposta correta\n",
    "- Insira novas células de código sempre que achar necessário\n",
    "- Em caso de dúvidas, procure os tutores\n",
    "- Divirta-se :)\n",
    "\n",
    "#### 1)  crie uma série do pandas a partir de uma lista com os dados abaixo:\n",
    "\n",
    "Em um estudo sobre alteração na tempreatura global, A NASA disponibiliza dados de diferenças de de temperatura média da superfície terrestre relativos às médias de temperatura entre 1951 e 1980. Os dados originais podem ser vistos no site da NASA/GISS, e estão dispostos a cada década na tabela abaixo.\n",
    "\n",
    "|ano|anomalia termica|\n",
    "|:-:|:----:|\n",
    "| 1900 | -0.08 |\n",
    "| 1920 | -0.27 |\n",
    "| 1940 | 0.12 |\n",
    "| 1960 | -0.03 |\n",
    "| 1980 | 0.26 |\n",
    "| 2000 | 0.40 |\n",
    "| 2020 | 1.02 |\n",
    "\n",
    "Crie uma séries do Pandas a partir de uma lista com esses dados."
   ]
  },
  {
   "cell_type": "code",
   "execution_count": 1,
   "metadata": {},
   "outputs": [
    {
     "name": "stdout",
     "output_type": "stream",
     "text": [
      "1900   -0.08\n",
      "1920   -0.27\n",
      "1940    0.12\n",
      "1960   -0.03\n",
      "1980    0.26\n",
      "2000    0.40\n",
      "2020    1.02\n",
      "Name: Anomalia Térmica, dtype: float64\n"
     ]
    }
   ],
   "source": [
    "import pandas as pd\n",
    "import numpy as np\n",
    "\n",
    "\n",
    "# Dados fornecido\n",
    "anos = [1900, 1920, 1940, 1960, 1980, 2000, 2020]\n",
    "anomalia_termica = [-0.08, -0.27, 0.12, -0.03, 0.26, 0.40, 1.02]\n",
    "\n",
    "# Série\n",
    "serie = pd.Series(anomalia_termica, index=anos, name='Anomalia Térmica')\n",
    "\n",
    "print(serie)\n"
   ]
  },
  {
   "cell_type": "markdown",
   "metadata": {},
   "source": [
    "#### 2) Coloque os anos nos índices conforme a tabela."
   ]
  },
  {
   "cell_type": "code",
   "execution_count": 3,
   "metadata": {},
   "outputs": [
    {
     "name": "stdout",
     "output_type": "stream",
     "text": [
      "1900   -0.08\n",
      "1920   -0.27\n",
      "1940    0.12\n",
      "1960   -0.03\n",
      "1980    0.26\n",
      "2000    0.40\n",
      "2020    1.02\n",
      "Name: Anomalia Térmica, dtype: float64\n"
     ]
    }
   ],
   "source": [
    "dados = {\n",
    "    1900: -0.08,\n",
    "    1920: -0.27,\n",
    "    1940: 0.12,\n",
    "    1960: -0.03,\n",
    "    1980: 0.26,\n",
    "    2000: 0.40,\n",
    "    2020: 1.02\n",
    "}\n",
    "\n",
    "serie = pd.Series(dados, name='Anomalia Térmica')\n",
    "\n",
    "print(serie)"
   ]
  },
  {
   "cell_type": "markdown",
   "metadata": {},
   "source": [
    "#### 3) A partir do dicionário abaixo, crie uma séries do Pandas:"
   ]
  },
  {
   "cell_type": "code",
   "execution_count": 4,
   "metadata": {},
   "outputs": [
    {
     "name": "stdout",
     "output_type": "stream",
     "text": [
      "1900   -0.08\n",
      "1920   -0.27\n",
      "1940    0.12\n",
      "1960   -0.03\n",
      "1980    0.26\n",
      "2000    0.40\n",
      "2020    1.02\n",
      "dtype: float64\n"
     ]
    }
   ],
   "source": [
    "dic_temperaturas = {1900: -.08, 1920: -.27, 1940: .12, 1960: -.03, 1980: .26, 2000: .40, 2020: 1.02}\n",
    "\n",
    "serie_temperaturas = pd.Series(dic_temperaturas)\n",
    "\n",
    "print(serie_temperaturas)"
   ]
  },
  {
   "cell_type": "markdown",
   "metadata": {},
   "source": [
    "#### 4) Transforme o ndarray abaixo em um dataframe. \n",
    "O numpy é capaz de gerar arrays n-dimensionais com números pseudo-aleatórios de acordo com uma variedade de distribuições, como no exemplo abaixo. Transforme esse nd-array em um DataFrame."
   ]
  },
  {
   "cell_type": "code",
   "execution_count": 6,
   "metadata": {},
   "outputs": [
    {
     "name": "stdout",
     "output_type": "stream",
     "text": [
      "             0           1           2\n",
      "0   115.713932  100.925796   97.460569\n",
      "1   101.929866   87.316068  114.948281\n",
      "2   115.255903   88.822974  105.415144\n",
      "3    84.889495  110.538152  101.425839\n",
      "4   107.458338  111.500610  111.984981\n",
      "5    92.219671  105.787859   88.424011\n",
      "6    93.124638  104.663940   95.144364\n",
      "7    93.214742  102.998456   76.530970\n",
      "8   109.209265   96.737323  106.319736\n",
      "9   112.766760  107.987680   80.661187\n",
      "10   84.232431   90.214832  101.799420\n",
      "11  105.033206   94.099598  108.555792\n",
      "12  102.870191  102.381947  102.668128\n",
      "13   94.217211   93.782555  101.028678\n",
      "14  103.305284  119.657066   91.323132\n",
      "15   99.328714   99.739259  110.630133\n",
      "16   99.502201   96.798283   91.956370\n",
      "17  122.923527  105.420142   91.902794\n",
      "18   99.170518  102.529068   97.430958\n",
      "19  104.391966  108.252649   87.130383\n"
     ]
    }
   ],
   "source": [
    "arr = np.random.normal(100, 10, (20,3))\n",
    "\n",
    "df = pd.DataFrame(arr)\n",
    "\n",
    "print(df)"
   ]
  },
  {
   "cell_type": "markdown",
   "metadata": {},
   "source": [
    "#### 5) Nomeie os índices das linhas com inteiros de 1 a 20, e as colunas com os nomes \"x1\", \"x2\", e \"x3\" respectivamente."
   ]
  },
  {
   "cell_type": "code",
   "execution_count": 7,
   "metadata": {},
   "outputs": [
    {
     "name": "stdout",
     "output_type": "stream",
     "text": [
      "            x1          x2          x3\n",
      "1   108.650642  115.916791   97.589130\n",
      "2    92.761271  103.257648   93.304494\n",
      "3   112.187040  104.583919  101.644190\n",
      "4   108.917945   97.926084  117.163840\n",
      "5   112.026602  112.048360   95.556685\n",
      "6   116.721635  112.164818   93.677972\n",
      "7   117.809103  110.238814   87.979660\n",
      "8    98.856975   99.015844  108.799481\n",
      "9    88.376727  107.268688  115.370620\n",
      "10   95.502766  106.192053   83.495469\n",
      "11  101.139541  106.663667   86.096870\n",
      "12  112.522708  107.132684   96.895945\n",
      "13   97.901533   92.346303   99.618037\n",
      "14  105.948885   96.415142   78.901508\n",
      "15   95.681164  106.398060   94.681004\n",
      "16   92.773604   96.270362   94.813302\n",
      "17  111.174822   69.408720  103.938681\n",
      "18   98.346003  123.033352  105.194814\n",
      "19  104.128962  106.058615  102.419135\n",
      "20  113.155596   93.756987  110.823877\n"
     ]
    }
   ],
   "source": [
    "arr = np.random.normal(100, 10, (20,3))\n",
    "df = pd.DataFrame(arr)\n",
    "# Renomeando os índices das linhas e as colunas\n",
    "df.index = range(1, 21)\n",
    "df.columns = ['x1', 'x2', 'x3']\n",
    "\n",
    "print(df)"
   ]
  },
  {
   "cell_type": "markdown",
   "metadata": {},
   "source": [
    "#### 6) No DataFrame do exercício 5, crie uma nova coluna como sendo a média das três colunas, e dê a ela o nome de \"media\" (não recomendo colocar acentos em nomes de variáveis)."
   ]
  },
  {
   "cell_type": "code",
   "execution_count": 8,
   "metadata": {},
   "outputs": [
    {
     "name": "stdout",
     "output_type": "stream",
     "text": [
      "            x1          x2          x3       media\n",
      "0   116.573674   95.422707  101.286330  104.427571\n",
      "1    95.317422  115.608727  105.396313  105.440821\n",
      "2    93.841459   89.787721   96.569889   93.399690\n",
      "3   126.357443  112.931587  108.854540  116.047857\n",
      "4   103.428890  112.447123   98.293769  104.723260\n",
      "5   101.146403  100.870414  104.657574  102.224797\n",
      "6   100.963188  102.285323   84.220314   95.822941\n",
      "7   107.919473   87.989506  100.342460   98.750479\n",
      "8   119.227999   82.627939  108.600839  103.485592\n",
      "9   100.315390   97.029545   97.941214   98.428716\n",
      "10   96.613754   97.059989  111.629374  101.767705\n",
      "11   98.832573   77.807957   91.223795   89.288109\n",
      "12   97.933770  116.957878   98.436123  104.442590\n",
      "13  113.136945  106.720962  120.576694  113.478200\n",
      "14  109.216812   98.419292  110.668131  106.101412\n",
      "15   92.619065  110.367506  101.951022  101.645864\n",
      "16   95.737350   98.829016  101.076348   98.547571\n",
      "17  103.234525   80.096340  101.246202   94.859022\n",
      "18   84.568267   91.464467   91.151654   89.061463\n",
      "19  107.702604   99.851492   98.038219  101.864105\n"
     ]
    }
   ],
   "source": [
    "arr = np.random.normal(100, 10, (20,3))\n",
    "df = pd.DataFrame(arr, columns=['x1', 'x2', 'x3'])\n",
    "# fazendo a média\n",
    "df['media'] = df.mean(axis=1)\n",
    "\n",
    "print(df)"
   ]
  },
  {
   "cell_type": "markdown",
   "metadata": {},
   "source": [
    "#### 7) No DataFrame do exercício 6, crie uma nova coluna chamada \"log_med\", contendo o logaritmo natural da média calculada no exercício 6 <br>"
   ]
  },
  {
   "cell_type": "code",
   "execution_count": 9,
   "metadata": {},
   "outputs": [
    {
     "name": "stdout",
     "output_type": "stream",
     "text": [
      "            x1          x2          x3       media   log_med\n",
      "0   107.903833   96.967226   81.938395   95.603151  4.560206\n",
      "1    85.063151   93.596600   90.827254   89.829002  4.497908\n",
      "2    94.423166  106.366009  103.611804  101.466993  4.619734\n",
      "3   109.634360  101.336701   80.184805   97.051955  4.575246\n",
      "4   101.256761   82.784698  109.236780   97.759413  4.582509\n",
      "5   106.153719  116.869906   95.218186  106.080604  4.664199\n",
      "6    93.090075   92.416040  107.285934   97.597350  4.580850\n",
      "7    92.729349  117.071670   93.575106  101.125375  4.616361\n",
      "8   100.792704   92.261177   82.551187   91.868356  4.520357\n",
      "9   100.920500  114.344455  108.177143  107.814033  4.680408\n",
      "10  106.832302  103.541596  120.521727  110.298542  4.703191\n",
      "11  110.429858   98.637860   92.198140  100.421953  4.609381\n",
      "12   78.436914   87.809539  114.771920   93.672791  4.539808\n",
      "13   98.391254  110.145761  110.424510  106.320508  4.666458\n",
      "14   94.828744  101.877452   75.612468   90.772888  4.508361\n",
      "15   93.926684  102.110439  119.307729  105.114951  4.655055\n",
      "16  115.219759   76.251825   98.429172   96.633585  4.570926\n",
      "17   89.493297   91.914703   89.082339   90.163446  4.501624\n",
      "18   99.642597   88.336371  106.647754   98.208907  4.587097\n",
      "19   97.542739  105.317836  116.647859  106.502811  4.668171\n"
     ]
    }
   ],
   "source": [
    "arr = np.random.normal(100, 10, (20,3))\n",
    "df = pd.DataFrame(arr, columns=['x1', 'x2', 'x3'])\n",
    "# Criando a coluna 'media'\n",
    "df['media'] = df.mean(axis=1)\n",
    "# fazendo a coluna 'log_med'\n",
    "df['log_med'] = np.log(df['media'])\n",
    "\n",
    "print(df)\n"
   ]
  },
  {
   "cell_type": "code",
   "execution_count": null,
   "metadata": {},
   "outputs": [],
   "source": []
  }
 ],
 "metadata": {
  "kernelspec": {
   "display_name": "Python 3 (ipykernel)",
   "language": "python",
   "name": "python3"
  },
  "language_info": {
   "codemirror_mode": {
    "name": "ipython",
    "version": 3
   },
   "file_extension": ".py",
   "mimetype": "text/x-python",
   "name": "python",
   "nbconvert_exporter": "python",
   "pygments_lexer": "ipython3",
   "version": "3.11.5"
  }
 },
 "nbformat": 4,
 "nbformat_minor": 4
}
